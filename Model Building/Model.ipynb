{
  "cells": [
    {
      "cell_type": "markdown",
      "metadata": {
        "id": "CDRTCR3Uj_91"
      },
      "source": [
        "# Model Building"
      ]
    },
    {
      "cell_type": "markdown",
      "metadata": {
        "id": "mpStk9g9j_95"
      },
      "source": [
        "## Attaching Resources"
      ]
    },
    {
      "cell_type": "markdown",
      "metadata": {
        "id": "DxLRc_W4j_96"
      },
      "source": [
        "### Importing Necessary Libraries"
      ]
    },
    {
      "cell_type": "code",
      "execution_count": 1,
      "metadata": {
        "colab": {
          "base_uri": "https://localhost:8080/",
          "height": 34
        },
        "id": "_02OO1sjj_96",
        "outputId": "3735efd1-8824-40cd-bdda-457b48c7318c"
      },
      "outputs": [
        {
          "data": {
            "text/plain": [
              "<Figure size 3750x2000 with 0 Axes>"
            ]
          },
          "metadata": {},
          "output_type": "display_data"
        }
      ],
      "source": [
        "import math as mt\n",
        "import numpy as np\n",
        "import pandas as pd\n",
        "import matplotlib.pyplot as plt\n",
        "import seaborn as sns\n",
        "from sklearn.model_selection import KFold, cross_val_score\n",
        "from sklearn.model_selection import train_test_split\n",
        "import statsmodels.formula.api as smf\n",
        "from sklearn.linear_model import LinearRegression, Lasso, Ridge, ElasticNet\n",
        "from sklearn.neighbors import KNeighborsRegressor\n",
        "from sklearn.tree import DecisionTreeRegressor\n",
        "from xgboost import XGBRegressor\n",
        "from sklearn.ensemble import AdaBoostRegressor, RandomForestRegressor, GradientBoostingRegressor, BaggingRegressor\n",
        "import tensorflow as tf\n",
        "from tensorflow.keras import Sequential\n",
        "from tensorflow.keras.layers import Dense, Dropout\n",
        "from tensorflow.keras.callbacks import EarlyStopping\n",
        "import pickle\n",
        "\n",
        "from sklearn.metrics import r2_score, mean_absolute_error, mean_squared_error\n",
        "from sklearn.model_selection import GridSearchCV, RandomizedSearchCV\n",
        "import statsmodels.api as sm\n",
        "\n",
        "import warnings\n",
        "\n",
        "warnings.filterwarnings('ignore')\n",
        "plt.rcParams['figure.figsize'] = (15,8)\n",
        "plt.rcParams['figure.dpi'] = 250\n",
        "sns.set_style(style='darkgrid')\n",
        "plt.tight_layout()\n",
        "%matplotlib inline"
      ]
    },
    {
      "cell_type": "markdown",
      "metadata": {
        "id": "ePCfomkFj_98"
      },
      "source": [
        "### Adding Dataset"
      ]
    },
    {
      "cell_type": "code",
      "execution_count": 2,
      "metadata": {
        "colab": {
          "base_uri": "https://localhost:8080/",
          "height": 424
        },
        "id": "MvDKZm-Nj_98",
        "outputId": "bf24a261-f44f-4976-9906-29bfcd642b0e"
      },
      "outputs": [
        {
          "data": {
            "text/html": [
              "<div>\n",
              "<style scoped>\n",
              "    .dataframe tbody tr th:only-of-type {\n",
              "        vertical-align: middle;\n",
              "    }\n",
              "\n",
              "    .dataframe tbody tr th {\n",
              "        vertical-align: top;\n",
              "    }\n",
              "\n",
              "    .dataframe thead th {\n",
              "        text-align: right;\n",
              "    }\n",
              "</style>\n",
              "<table border=\"1\" class=\"dataframe\">\n",
              "  <thead>\n",
              "    <tr style=\"text-align: right;\">\n",
              "      <th></th>\n",
              "      <th>Age</th>\n",
              "      <th>Occupation</th>\n",
              "      <th>Stay_In_Current_City_Years</th>\n",
              "      <th>Product_Category_1</th>\n",
              "      <th>Product_Category_2</th>\n",
              "      <th>Product_Category_3</th>\n",
              "    </tr>\n",
              "  </thead>\n",
              "  <tbody>\n",
              "    <tr>\n",
              "      <th>0</th>\n",
              "      <td>-1.827262</td>\n",
              "      <td>0.292351</td>\n",
              "      <td>0.103434</td>\n",
              "      <td>-0.616322</td>\n",
              "      <td>-0.296936</td>\n",
              "      <td>0.370842</td>\n",
              "    </tr>\n",
              "    <tr>\n",
              "      <th>1</th>\n",
              "      <td>-1.827262</td>\n",
              "      <td>0.292351</td>\n",
              "      <td>0.103434</td>\n",
              "      <td>-1.151850</td>\n",
              "      <td>-0.761597</td>\n",
              "      <td>-0.356934</td>\n",
              "    </tr>\n",
              "    <tr>\n",
              "      <th>2</th>\n",
              "      <td>-1.827262</td>\n",
              "      <td>0.292351</td>\n",
              "      <td>0.103434</td>\n",
              "      <td>1.793553</td>\n",
              "      <td>-0.296936</td>\n",
              "      <td>0.370842</td>\n",
              "    </tr>\n",
              "    <tr>\n",
              "      <th>3</th>\n",
              "      <td>-1.827262</td>\n",
              "      <td>0.292351</td>\n",
              "      <td>0.103434</td>\n",
              "      <td>1.793553</td>\n",
              "      <td>1.097047</td>\n",
              "      <td>0.370842</td>\n",
              "    </tr>\n",
              "    <tr>\n",
              "      <th>4</th>\n",
              "      <td>2.586867</td>\n",
              "      <td>1.211319</td>\n",
              "      <td>1.651862</td>\n",
              "      <td>0.722497</td>\n",
              "      <td>-0.296936</td>\n",
              "      <td>0.370842</td>\n",
              "    </tr>\n",
              "    <tr>\n",
              "      <th>...</th>\n",
              "      <td>...</td>\n",
              "      <td>...</td>\n",
              "      <td>...</td>\n",
              "      <td>...</td>\n",
              "      <td>...</td>\n",
              "      <td>...</td>\n",
              "    </tr>\n",
              "    <tr>\n",
              "      <th>99996</th>\n",
              "      <td>-1.091574</td>\n",
              "      <td>-0.626617</td>\n",
              "      <td>-1.444994</td>\n",
              "      <td>0.722497</td>\n",
              "      <td>-0.296936</td>\n",
              "      <td>0.370842</td>\n",
              "    </tr>\n",
              "    <tr>\n",
              "      <th>99997</th>\n",
              "      <td>-1.091574</td>\n",
              "      <td>-0.626617</td>\n",
              "      <td>-1.444994</td>\n",
              "      <td>-0.884086</td>\n",
              "      <td>-0.993928</td>\n",
              "      <td>0.370842</td>\n",
              "    </tr>\n",
              "    <tr>\n",
              "      <th>99998</th>\n",
              "      <td>-1.091574</td>\n",
              "      <td>-0.626617</td>\n",
              "      <td>-1.444994</td>\n",
              "      <td>-0.080794</td>\n",
              "      <td>-0.296936</td>\n",
              "      <td>0.370842</td>\n",
              "    </tr>\n",
              "    <tr>\n",
              "      <th>99999</th>\n",
              "      <td>-1.091574</td>\n",
              "      <td>-0.626617</td>\n",
              "      <td>-1.444994</td>\n",
              "      <td>-0.080794</td>\n",
              "      <td>-0.296936</td>\n",
              "      <td>0.370842</td>\n",
              "    </tr>\n",
              "    <tr>\n",
              "      <th>100000</th>\n",
              "      <td>-1.091574</td>\n",
              "      <td>-0.626617</td>\n",
              "      <td>-1.444994</td>\n",
              "      <td>-1.151850</td>\n",
              "      <td>1.561708</td>\n",
              "      <td>0.370842</td>\n",
              "    </tr>\n",
              "  </tbody>\n",
              "</table>\n",
              "<p>100001 rows × 6 columns</p>\n",
              "</div>"
            ],
            "text/plain": [
              "             Age  Occupation  Stay_In_Current_City_Years  Product_Category_1  \\\n",
              "0      -1.827262    0.292351                    0.103434           -0.616322   \n",
              "1      -1.827262    0.292351                    0.103434           -1.151850   \n",
              "2      -1.827262    0.292351                    0.103434            1.793553   \n",
              "3      -1.827262    0.292351                    0.103434            1.793553   \n",
              "4       2.586867    1.211319                    1.651862            0.722497   \n",
              "...          ...         ...                         ...                 ...   \n",
              "99996  -1.091574   -0.626617                   -1.444994            0.722497   \n",
              "99997  -1.091574   -0.626617                   -1.444994           -0.884086   \n",
              "99998  -1.091574   -0.626617                   -1.444994           -0.080794   \n",
              "99999  -1.091574   -0.626617                   -1.444994           -0.080794   \n",
              "100000 -1.091574   -0.626617                   -1.444994           -1.151850   \n",
              "\n",
              "        Product_Category_2  Product_Category_3  \n",
              "0                -0.296936            0.370842  \n",
              "1                -0.761597           -0.356934  \n",
              "2                -0.296936            0.370842  \n",
              "3                 1.097047            0.370842  \n",
              "4                -0.296936            0.370842  \n",
              "...                    ...                 ...  \n",
              "99996            -0.296936            0.370842  \n",
              "99997            -0.993928            0.370842  \n",
              "99998            -0.296936            0.370842  \n",
              "99999            -0.296936            0.370842  \n",
              "100000            1.561708            0.370842  \n",
              "\n",
              "[100001 rows x 6 columns]"
            ]
          },
          "execution_count": 2,
          "metadata": {},
          "output_type": "execute_result"
        }
      ],
      "source": [
        "x = pd.read_csv('x.csv')\n",
        "y = pd.read_csv('y.csv')\n",
        "\n",
        "x"
      ]
    },
    {
      "cell_type": "markdown",
      "metadata": {
        "id": "Yd7EfDZFj_9_"
      },
      "source": [
        "## K-fold Cross Validation"
      ]
    },
    {
      "cell_type": "code",
      "execution_count": 3,
      "metadata": {
        "colab": {
          "base_uri": "https://localhost:8080/"
        },
        "id": "C27QlkWKj_9_",
        "outputId": "3a6fa137-550d-44a2-d268-30c639800b6c"
      },
      "outputs": [
        {
          "name": "stdout",
          "output_type": "stream",
          "text": [
            "Creating Model With KNeighborsRegressor()\n",
            "Testing Accuracy of are Model is : 0.4942707202112576\n",
            "Printing All Training Model Accuracy : \n",
            "[0.48724451 0.50940461 0.48818859 0.48409838 0.49466826 0.50807642\n",
            " 0.49340346 0.49550139 0.47725223 0.50486934]\n",
            "\n",
            "\n",
            "Creating Model With DecisionTreeRegressor()\n",
            "Testing Accuracy of are Model is : 0.5134791822747116\n",
            "Printing All Training Model Accuracy : \n",
            "[0.51871961 0.5230882  0.4974764  0.50522688 0.50682001 0.53899302\n",
            " 0.51243755 0.51649262 0.48579698 0.52974056]\n",
            "\n",
            "\n",
            "Creating Model With RandomForestRegressor()\n",
            "Testing Accuracy of are Model is : 0.5870078738641195\n",
            "Printing All Training Model Accuracy : \n",
            "[0.58335003 0.5992304  0.58003607 0.58297912 0.58438158 0.60425213\n",
            " 0.5886181  0.59300315 0.55753911 0.59668904]\n",
            "\n",
            "\n",
            "Creating Model With LinearRegression()\n",
            "Testing Accuracy of are Model is : 0.10800770345258763\n",
            "Printing All Training Model Accuracy : \n",
            "[0.10963711 0.1144566  0.12884678 0.09034653 0.10567045 0.11413705\n",
            " 0.11403778 0.09950354 0.09484807 0.10859311]\n",
            "\n",
            "\n",
            "Creating Model With XGBRegressor(base_score=None, booster=None, callbacks=None,\n",
            "             colsample_bylevel=None, colsample_bynode=None,\n",
            "             colsample_bytree=None, device=None, early_stopping_rounds=None,\n",
            "             enable_categorical=False, eval_metric=None, feature_types=None,\n",
            "             gamma=None, grow_policy=None, importance_type=None,\n",
            "             interaction_constraints=None, learning_rate=None, max_bin=None,\n",
            "             max_cat_threshold=None, max_cat_to_onehot=None,\n",
            "             max_delta_step=None, max_depth=None, max_leaves=None,\n",
            "             min_child_weight=None, missing=nan, monotone_constraints=None,\n",
            "             multi_strategy=None, n_estimators=None, n_jobs=None,\n",
            "             num_parallel_tree=None, random_state=None, ...)\n",
            "Testing Accuracy of are Model is : 0.6421468866036879\n",
            "Printing All Training Model Accuracy : \n",
            "[0.63504134 0.64899034 0.63630151 0.64175492 0.64067932 0.66373387\n",
            " 0.64573576 0.64722709 0.61241533 0.64958939]\n",
            "\n",
            "\n",
            "Creating Model With Lasso()\n",
            "Testing Accuracy of are Model is : 0.10801320503501954\n",
            "Printing All Training Model Accuracy : \n",
            "[0.10964694 0.11446526 0.12882813 0.0903585  0.10568094 0.11413905\n",
            " 0.11403202 0.09951012 0.09486204 0.10860906]\n",
            "\n",
            "\n",
            "Creating Model With Ridge()\n",
            "Testing Accuracy of are Model is : 0.10800770695846496\n",
            "Printing All Training Model Accuracy : \n",
            "[0.10963707 0.11445648 0.12884658 0.09034676 0.10567048 0.11413696\n",
            " 0.11403772 0.09950362 0.09484828 0.10859312]\n",
            "\n",
            "\n",
            "Creating Model With ElasticNet()\n",
            "Testing Accuracy of are Model is : 0.09841587245043174\n",
            "Printing All Training Model Accuracy : \n",
            "[0.09900511 0.10173092 0.1129982  0.0867987  0.0968528  0.10204182\n",
            " 0.10243899 0.09240471 0.09077408 0.09911339]\n",
            "\n",
            "\n"
          ]
        }
      ],
      "source": [
        "kf = KFold(n_splits=10)\n",
        "\n",
        "mod = [KNeighborsRegressor(), DecisionTreeRegressor(), RandomForestRegressor(), LinearRegression(), XGBRegressor(), Lasso(), Ridge(), ElasticNet()]\n",
        "\n",
        "for i in range(len(mod)):\n",
        "    kf_scores = cross_val_score(mod[i],x,y,cv=kf)\n",
        "    print('Creating Model With ' + str(mod[i]))\n",
        "    print('Testing Accuracy of are Model is : ' + str(kf_scores.mean()))\n",
        "    print('Printing All Training Model Accuracy : \\n' + str(kf_scores))\n",
        "    print('\\n')"
      ]
    },
    {
      "cell_type": "markdown",
      "metadata": {
        "id": "SOWgdbu_j_9_"
      },
      "source": [
        "## Splitting The Data Into Traning and Testing Dataset"
      ]
    },
    {
      "cell_type": "code",
      "execution_count": 4,
      "metadata": {
        "id": "vtdmbV0lj_9_"
      },
      "outputs": [],
      "source": [
        "x_train, x_test, y_train, y_test = train_test_split(x,y,test_size=0.2,random_state=10)"
      ]
    },
    {
      "cell_type": "code",
      "execution_count": 5,
      "metadata": {
        "colab": {
          "base_uri": "https://localhost:8080/",
          "height": 206
        },
        "id": "tnb9dswLj_-A",
        "outputId": "a8dfa102-6e19-4af9-e22e-ca37ac96d1bb"
      },
      "outputs": [
        {
          "data": {
            "text/html": [
              "<div>\n",
              "<style scoped>\n",
              "    .dataframe tbody tr th:only-of-type {\n",
              "        vertical-align: middle;\n",
              "    }\n",
              "\n",
              "    .dataframe tbody tr th {\n",
              "        vertical-align: top;\n",
              "    }\n",
              "\n",
              "    .dataframe thead th {\n",
              "        text-align: right;\n",
              "    }\n",
              "</style>\n",
              "<table border=\"1\" class=\"dataframe\">\n",
              "  <thead>\n",
              "    <tr style=\"text-align: right;\">\n",
              "      <th></th>\n",
              "      <th>Age</th>\n",
              "      <th>Occupation</th>\n",
              "      <th>Stay_In_Current_City_Years</th>\n",
              "      <th>Product_Category_1</th>\n",
              "      <th>Product_Category_2</th>\n",
              "      <th>Product_Category_3</th>\n",
              "    </tr>\n",
              "  </thead>\n",
              "  <tbody>\n",
              "    <tr>\n",
              "      <th>84467</th>\n",
              "      <td>-1.091574</td>\n",
              "      <td>-0.626617</td>\n",
              "      <td>0.103434</td>\n",
              "      <td>-0.080794</td>\n",
              "      <td>-0.296936</td>\n",
              "      <td>0.370842</td>\n",
              "    </tr>\n",
              "    <tr>\n",
              "      <th>54294</th>\n",
              "      <td>-0.355886</td>\n",
              "      <td>-0.320294</td>\n",
              "      <td>0.103434</td>\n",
              "      <td>-0.080794</td>\n",
              "      <td>-0.296936</td>\n",
              "      <td>0.370842</td>\n",
              "    </tr>\n",
              "    <tr>\n",
              "      <th>3153</th>\n",
              "      <td>0.379803</td>\n",
              "      <td>0.598674</td>\n",
              "      <td>1.651862</td>\n",
              "      <td>0.722497</td>\n",
              "      <td>-0.296936</td>\n",
              "      <td>0.370842</td>\n",
              "    </tr>\n",
              "    <tr>\n",
              "      <th>24175</th>\n",
              "      <td>-1.091574</td>\n",
              "      <td>-0.626617</td>\n",
              "      <td>0.103434</td>\n",
              "      <td>-0.080794</td>\n",
              "      <td>-0.296936</td>\n",
              "      <td>0.370842</td>\n",
              "    </tr>\n",
              "    <tr>\n",
              "      <th>57509</th>\n",
              "      <td>-0.355886</td>\n",
              "      <td>-0.779778</td>\n",
              "      <td>0.877648</td>\n",
              "      <td>1.525789</td>\n",
              "      <td>1.561708</td>\n",
              "      <td>0.370842</td>\n",
              "    </tr>\n",
              "  </tbody>\n",
              "</table>\n",
              "</div>"
            ],
            "text/plain": [
              "            Age  Occupation  Stay_In_Current_City_Years  Product_Category_1  \\\n",
              "84467 -1.091574   -0.626617                    0.103434           -0.080794   \n",
              "54294 -0.355886   -0.320294                    0.103434           -0.080794   \n",
              "3153   0.379803    0.598674                    1.651862            0.722497   \n",
              "24175 -1.091574   -0.626617                    0.103434           -0.080794   \n",
              "57509 -0.355886   -0.779778                    0.877648            1.525789   \n",
              "\n",
              "       Product_Category_2  Product_Category_3  \n",
              "84467           -0.296936            0.370842  \n",
              "54294           -0.296936            0.370842  \n",
              "3153            -0.296936            0.370842  \n",
              "24175           -0.296936            0.370842  \n",
              "57509            1.561708            0.370842  "
            ]
          },
          "execution_count": 5,
          "metadata": {},
          "output_type": "execute_result"
        }
      ],
      "source": [
        "x_train.head()"
      ]
    },
    {
      "cell_type": "code",
      "execution_count": 6,
      "metadata": {
        "colab": {
          "base_uri": "https://localhost:8080/",
          "height": 206
        },
        "id": "nMCAqIFKj_-A",
        "outputId": "91edbc44-7d56-43d7-cdb0-1eb27443d5ce"
      },
      "outputs": [
        {
          "data": {
            "text/html": [
              "<div>\n",
              "<style scoped>\n",
              "    .dataframe tbody tr th:only-of-type {\n",
              "        vertical-align: middle;\n",
              "    }\n",
              "\n",
              "    .dataframe tbody tr th {\n",
              "        vertical-align: top;\n",
              "    }\n",
              "\n",
              "    .dataframe thead th {\n",
              "        text-align: right;\n",
              "    }\n",
              "</style>\n",
              "<table border=\"1\" class=\"dataframe\">\n",
              "  <thead>\n",
              "    <tr style=\"text-align: right;\">\n",
              "      <th></th>\n",
              "      <th>Age</th>\n",
              "      <th>Occupation</th>\n",
              "      <th>Stay_In_Current_City_Years</th>\n",
              "      <th>Product_Category_1</th>\n",
              "      <th>Product_Category_2</th>\n",
              "      <th>Product_Category_3</th>\n",
              "    </tr>\n",
              "  </thead>\n",
              "  <tbody>\n",
              "    <tr>\n",
              "      <th>90972</th>\n",
              "      <td>0.379803</td>\n",
              "      <td>1.364481</td>\n",
              "      <td>-0.670780</td>\n",
              "      <td>0.722497</td>\n",
              "      <td>-0.296936</td>\n",
              "      <td>0.370842</td>\n",
              "    </tr>\n",
              "    <tr>\n",
              "      <th>44635</th>\n",
              "      <td>-1.091574</td>\n",
              "      <td>-0.626617</td>\n",
              "      <td>1.651862</td>\n",
              "      <td>-0.080794</td>\n",
              "      <td>-0.296936</td>\n",
              "      <td>0.370842</td>\n",
              "    </tr>\n",
              "    <tr>\n",
              "      <th>16415</th>\n",
              "      <td>0.379803</td>\n",
              "      <td>0.139190</td>\n",
              "      <td>0.877648</td>\n",
              "      <td>-1.151850</td>\n",
              "      <td>-1.690920</td>\n",
              "      <td>-3.631925</td>\n",
              "    </tr>\n",
              "    <tr>\n",
              "      <th>1002</th>\n",
              "      <td>-0.355886</td>\n",
              "      <td>-1.239262</td>\n",
              "      <td>-0.670780</td>\n",
              "      <td>0.186970</td>\n",
              "      <td>0.864716</td>\n",
              "      <td>0.370842</td>\n",
              "    </tr>\n",
              "    <tr>\n",
              "      <th>74234</th>\n",
              "      <td>-0.355886</td>\n",
              "      <td>-1.239262</td>\n",
              "      <td>-0.670780</td>\n",
              "      <td>-1.151850</td>\n",
              "      <td>-1.690920</td>\n",
              "      <td>0.006954</td>\n",
              "    </tr>\n",
              "  </tbody>\n",
              "</table>\n",
              "</div>"
            ],
            "text/plain": [
              "            Age  Occupation  Stay_In_Current_City_Years  Product_Category_1  \\\n",
              "90972  0.379803    1.364481                   -0.670780            0.722497   \n",
              "44635 -1.091574   -0.626617                    1.651862           -0.080794   \n",
              "16415  0.379803    0.139190                    0.877648           -1.151850   \n",
              "1002  -0.355886   -1.239262                   -0.670780            0.186970   \n",
              "74234 -0.355886   -1.239262                   -0.670780           -1.151850   \n",
              "\n",
              "       Product_Category_2  Product_Category_3  \n",
              "90972           -0.296936            0.370842  \n",
              "44635           -0.296936            0.370842  \n",
              "16415           -1.690920           -3.631925  \n",
              "1002             0.864716            0.370842  \n",
              "74234           -1.690920            0.006954  "
            ]
          },
          "execution_count": 6,
          "metadata": {},
          "output_type": "execute_result"
        }
      ],
      "source": [
        "x_test.head()"
      ]
    },
    {
      "cell_type": "code",
      "execution_count": 7,
      "metadata": {
        "colab": {
          "base_uri": "https://localhost:8080/"
        },
        "id": "D3DpTHUpj_-A",
        "outputId": "cef0bd30-cde5-4365-d0a2-8cec397533d0"
      },
      "outputs": [
        {
          "data": {
            "text/html": [
              "<div>\n",
              "<style scoped>\n",
              "    .dataframe tbody tr th:only-of-type {\n",
              "        vertical-align: middle;\n",
              "    }\n",
              "\n",
              "    .dataframe tbody tr th {\n",
              "        vertical-align: top;\n",
              "    }\n",
              "\n",
              "    .dataframe thead th {\n",
              "        text-align: right;\n",
              "    }\n",
              "</style>\n",
              "<table border=\"1\" class=\"dataframe\">\n",
              "  <thead>\n",
              "    <tr style=\"text-align: right;\">\n",
              "      <th></th>\n",
              "      <th>Purchase</th>\n",
              "    </tr>\n",
              "  </thead>\n",
              "  <tbody>\n",
              "    <tr>\n",
              "      <th>84467</th>\n",
              "      <td>5391</td>\n",
              "    </tr>\n",
              "    <tr>\n",
              "      <th>54294</th>\n",
              "      <td>5368</td>\n",
              "    </tr>\n",
              "    <tr>\n",
              "      <th>3153</th>\n",
              "      <td>9888</td>\n",
              "    </tr>\n",
              "    <tr>\n",
              "      <th>24175</th>\n",
              "      <td>5387</td>\n",
              "    </tr>\n",
              "    <tr>\n",
              "      <th>57509</th>\n",
              "      <td>4444</td>\n",
              "    </tr>\n",
              "  </tbody>\n",
              "</table>\n",
              "</div>"
            ],
            "text/plain": [
              "       Purchase\n",
              "84467      5391\n",
              "54294      5368\n",
              "3153       9888\n",
              "24175      5387\n",
              "57509      4444"
            ]
          },
          "execution_count": 7,
          "metadata": {},
          "output_type": "execute_result"
        }
      ],
      "source": [
        "y_train.head()"
      ]
    },
    {
      "cell_type": "code",
      "execution_count": 8,
      "metadata": {
        "colab": {
          "base_uri": "https://localhost:8080/"
        },
        "id": "ZSxcwBK6j_-B",
        "outputId": "848b9adc-3c02-49b6-ae8f-777a3a2a81ec"
      },
      "outputs": [
        {
          "data": {
            "text/html": [
              "<div>\n",
              "<style scoped>\n",
              "    .dataframe tbody tr th:only-of-type {\n",
              "        vertical-align: middle;\n",
              "    }\n",
              "\n",
              "    .dataframe tbody tr th {\n",
              "        vertical-align: top;\n",
              "    }\n",
              "\n",
              "    .dataframe thead th {\n",
              "        text-align: right;\n",
              "    }\n",
              "</style>\n",
              "<table border=\"1\" class=\"dataframe\">\n",
              "  <thead>\n",
              "    <tr style=\"text-align: right;\">\n",
              "      <th></th>\n",
              "      <th>Purchase</th>\n",
              "    </tr>\n",
              "  </thead>\n",
              "  <tbody>\n",
              "    <tr>\n",
              "      <th>90972</th>\n",
              "      <td>7819</td>\n",
              "    </tr>\n",
              "    <tr>\n",
              "      <th>44635</th>\n",
              "      <td>7192</td>\n",
              "    </tr>\n",
              "    <tr>\n",
              "      <th>16415</th>\n",
              "      <td>15308</td>\n",
              "    </tr>\n",
              "    <tr>\n",
              "      <th>1002</th>\n",
              "      <td>12662</td>\n",
              "    </tr>\n",
              "    <tr>\n",
              "      <th>74234</th>\n",
              "      <td>11538</td>\n",
              "    </tr>\n",
              "  </tbody>\n",
              "</table>\n",
              "</div>"
            ],
            "text/plain": [
              "       Purchase\n",
              "90972      7819\n",
              "44635      7192\n",
              "16415     15308\n",
              "1002      12662\n",
              "74234     11538"
            ]
          },
          "execution_count": 8,
          "metadata": {},
          "output_type": "execute_result"
        }
      ],
      "source": [
        "y_test.head()"
      ]
    },
    {
      "cell_type": "markdown",
      "metadata": {
        "id": "XH2noaJ-j_-B"
      },
      "source": [
        "## Preparing Model From The Dataset"
      ]
    },
    {
      "cell_type": "markdown",
      "metadata": {
        "id": "r0M9WNdAj_-B"
      },
      "source": [
        "### Picking Model Lowest Training And Testing Difference"
      ]
    },
    {
      "cell_type": "code",
      "execution_count": 9,
      "metadata": {
        "id": "7_159DrBj_-B"
      },
      "outputs": [],
      "source": [
        "def predict(model):\n",
        "    print('Creating Model With ' + str(model))\n",
        "    model.fit(x_train,y_train)\n",
        "    train_pred = model.predict(x_train)\n",
        "    print('Training Accuracy of are Model is : ' + str(round(r2_score(y_train, train_pred),2)) + '%')\n",
        "\n",
        "    test_pred = model.predict(x_test)\n",
        "    print('Testing Accuracy of are Model is : ' + str(round(r2_score(y_test, test_pred),2)) + '%')\n",
        "\n",
        "    print('Mean Absolute Error of are Model is : ' + str(round(mean_absolute_error(y_test, test_pred), 4)))\n",
        "    print('\\n')"
      ]
    },
    {
      "cell_type": "code",
      "execution_count": 10,
      "metadata": {
        "colab": {
          "base_uri": "https://localhost:8080/"
        },
        "id": "QLjB5Gxej_-B",
        "outputId": "af77bb1c-58ee-494d-e0c6-0b6a0f0726cc"
      },
      "outputs": [
        {
          "name": "stdout",
          "output_type": "stream",
          "text": [
            "Creating Model With LinearRegression()\n",
            "Training Accuracy of are Model is : 0.11%\n",
            "Testing Accuracy of are Model is : 0.11%\n",
            "Mean Absolute Error of are Model is : 3584.9499\n",
            "\n",
            "\n",
            "Creating Model With KNeighborsRegressor()\n",
            "Training Accuracy of are Model is : 0.63%\n",
            "Testing Accuracy of are Model is : 0.49%\n",
            "Mean Absolute Error of are Model is : 2590.319\n",
            "\n",
            "\n",
            "Creating Model With DecisionTreeRegressor()\n",
            "Training Accuracy of are Model is : 0.77%\n",
            "Testing Accuracy of are Model is : 0.51%\n",
            "Mean Absolute Error of are Model is : 2487.1009\n",
            "\n",
            "\n",
            "Creating Model With RandomForestRegressor()\n",
            "Training Accuracy of are Model is : 0.76%\n",
            "Testing Accuracy of are Model is : 0.58%\n",
            "Mean Absolute Error of are Model is : 2345.942\n",
            "\n",
            "\n",
            "Creating Model With XGBRegressor(base_score=None, booster=None, callbacks=None,\n",
            "             colsample_bylevel=None, colsample_bynode=None,\n",
            "             colsample_bytree=None, device=None, early_stopping_rounds=None,\n",
            "             enable_categorical=False, eval_metric=None, feature_types=None,\n",
            "             gamma=None, grow_policy=None, importance_type=None,\n",
            "             interaction_constraints=None, learning_rate=None, max_bin=None,\n",
            "             max_cat_threshold=None, max_cat_to_onehot=None,\n",
            "             max_delta_step=None, max_depth=None, max_leaves=None,\n",
            "             min_child_weight=None, missing=nan, monotone_constraints=None,\n",
            "             multi_strategy=None, n_estimators=None, n_jobs=None,\n",
            "             num_parallel_tree=None, random_state=None, ...)\n",
            "Training Accuracy of are Model is : 0.68%\n",
            "Testing Accuracy of are Model is : 0.64%\n",
            "Mean Absolute Error of are Model is : 2218.5284\n",
            "\n",
            "\n",
            "Creating Model With GradientBoostingRegressor()\n",
            "Training Accuracy of are Model is : 0.64%\n",
            "Testing Accuracy of are Model is : 0.63%\n",
            "Mean Absolute Error of are Model is : 2267.7302\n",
            "\n",
            "\n",
            "Creating Model With Lasso()\n",
            "Training Accuracy of are Model is : 0.11%\n",
            "Testing Accuracy of are Model is : 0.11%\n",
            "Mean Absolute Error of are Model is : 3585.1204\n",
            "\n",
            "\n",
            "Creating Model With Ridge()\n",
            "Training Accuracy of are Model is : 0.11%\n",
            "Testing Accuracy of are Model is : 0.11%\n",
            "Mean Absolute Error of are Model is : 3584.9528\n",
            "\n",
            "\n",
            "Creating Model With ElasticNet()\n",
            "Training Accuracy of are Model is : 0.1%\n",
            "Testing Accuracy of are Model is : 0.1%\n",
            "Mean Absolute Error of are Model is : 3677.0521\n",
            "\n",
            "\n"
          ]
        }
      ],
      "source": [
        "models = [ LinearRegression(), KNeighborsRegressor(), DecisionTreeRegressor(), RandomForestRegressor(), XGBRegressor(), GradientBoostingRegressor(), Lasso(), Ridge(), ElasticNet()]\n",
        "\n",
        "for i in range(len(models)):\n",
        "    predict(models[i])"
      ]
    },
    {
      "cell_type": "markdown",
      "metadata": {
        "id": "sBTTd7brj_-D"
      },
      "source": [
        "### Performing Hyperparameter Tuning"
      ]
    },
    {
      "cell_type": "markdown",
      "metadata": {
        "id": "hMBiz897j_-D"
      },
      "source": [
        "#### Tuning Decision Tree Regressor"
      ]
    },
    {
      "cell_type": "code",
      "execution_count": 10,
      "metadata": {
        "id": "icgm8mJTj_-D"
      },
      "outputs": [],
      "source": [
        "params = {\n",
        "    'criterion' : [\"squared_error\", \"friedman_mse\", \"absolute_error\"],\n",
        "    'max_depth' : [1,2,3,4,5,6],\n",
        "    'min_samples_split' : [4,6,8,10,12],\n",
        "    'max_leaf_nodes' : [8,10,12,14,16,18],\n",
        "    'min_samples_leaf' : [1,2,3,4,5]\n",
        "}"
      ]
    },
    {
      "cell_type": "code",
      "execution_count": 12,
      "metadata": {
        "colab": {
          "base_uri": "https://localhost:8080/",
          "height": 118
        },
        "id": "Cu0PhGq8j_-E",
        "outputId": "5726c287-97e0-4e1f-fe01-25cacba76962"
      },
      "outputs": [
        {
          "data": {
            "text/html": [
              "<style>#sk-container-id-1 {color: black;}#sk-container-id-1 pre{padding: 0;}#sk-container-id-1 div.sk-toggleable {background-color: white;}#sk-container-id-1 label.sk-toggleable__label {cursor: pointer;display: block;width: 100%;margin-bottom: 0;padding: 0.3em;box-sizing: border-box;text-align: center;}#sk-container-id-1 label.sk-toggleable__label-arrow:before {content: \"▸\";float: left;margin-right: 0.25em;color: #696969;}#sk-container-id-1 label.sk-toggleable__label-arrow:hover:before {color: black;}#sk-container-id-1 div.sk-estimator:hover label.sk-toggleable__label-arrow:before {color: black;}#sk-container-id-1 div.sk-toggleable__content {max-height: 0;max-width: 0;overflow: hidden;text-align: left;background-color: #f0f8ff;}#sk-container-id-1 div.sk-toggleable__content pre {margin: 0.2em;color: black;border-radius: 0.25em;background-color: #f0f8ff;}#sk-container-id-1 input.sk-toggleable__control:checked~div.sk-toggleable__content {max-height: 200px;max-width: 100%;overflow: auto;}#sk-container-id-1 input.sk-toggleable__control:checked~label.sk-toggleable__label-arrow:before {content: \"▾\";}#sk-container-id-1 div.sk-estimator input.sk-toggleable__control:checked~label.sk-toggleable__label {background-color: #d4ebff;}#sk-container-id-1 div.sk-label input.sk-toggleable__control:checked~label.sk-toggleable__label {background-color: #d4ebff;}#sk-container-id-1 input.sk-hidden--visually {border: 0;clip: rect(1px 1px 1px 1px);clip: rect(1px, 1px, 1px, 1px);height: 1px;margin: -1px;overflow: hidden;padding: 0;position: absolute;width: 1px;}#sk-container-id-1 div.sk-estimator {font-family: monospace;background-color: #f0f8ff;border: 1px dotted black;border-radius: 0.25em;box-sizing: border-box;margin-bottom: 0.5em;}#sk-container-id-1 div.sk-estimator:hover {background-color: #d4ebff;}#sk-container-id-1 div.sk-parallel-item::after {content: \"\";width: 100%;border-bottom: 1px solid gray;flex-grow: 1;}#sk-container-id-1 div.sk-label:hover label.sk-toggleable__label {background-color: #d4ebff;}#sk-container-id-1 div.sk-serial::before {content: \"\";position: absolute;border-left: 1px solid gray;box-sizing: border-box;top: 0;bottom: 0;left: 50%;z-index: 0;}#sk-container-id-1 div.sk-serial {display: flex;flex-direction: column;align-items: center;background-color: white;padding-right: 0.2em;padding-left: 0.2em;position: relative;}#sk-container-id-1 div.sk-item {position: relative;z-index: 1;}#sk-container-id-1 div.sk-parallel {display: flex;align-items: stretch;justify-content: center;background-color: white;position: relative;}#sk-container-id-1 div.sk-item::before, #sk-container-id-1 div.sk-parallel-item::before {content: \"\";position: absolute;border-left: 1px solid gray;box-sizing: border-box;top: 0;bottom: 0;left: 50%;z-index: -1;}#sk-container-id-1 div.sk-parallel-item {display: flex;flex-direction: column;z-index: 1;position: relative;background-color: white;}#sk-container-id-1 div.sk-parallel-item:first-child::after {align-self: flex-end;width: 50%;}#sk-container-id-1 div.sk-parallel-item:last-child::after {align-self: flex-start;width: 50%;}#sk-container-id-1 div.sk-parallel-item:only-child::after {width: 0;}#sk-container-id-1 div.sk-dashed-wrapped {border: 1px dashed gray;margin: 0 0.4em 0.5em 0.4em;box-sizing: border-box;padding-bottom: 0.4em;background-color: white;}#sk-container-id-1 div.sk-label label {font-family: monospace;font-weight: bold;display: inline-block;line-height: 1.2em;}#sk-container-id-1 div.sk-label-container {text-align: center;}#sk-container-id-1 div.sk-container {/* jupyter's `normalize.less` sets `[hidden] { display: none; }` but bootstrap.min.css set `[hidden] { display: none !important; }` so we also need the `!important` here to be able to override the default hidden behavior on the sphinx rendered scikit-learn.org. See: https://github.com/scikit-learn/scikit-learn/issues/21755 */display: inline-block !important;position: relative;}#sk-container-id-1 div.sk-text-repr-fallback {display: none;}</style><div id=\"sk-container-id-1\" class=\"sk-top-container\"><div class=\"sk-text-repr-fallback\"><pre>RandomizedSearchCV(estimator=DecisionTreeRegressor(), n_jobs=-1,\n",
              "                   param_distributions={&#x27;criterion&#x27;: [&#x27;squared_error&#x27;,\n",
              "                                                      &#x27;friedman_mse&#x27;,\n",
              "                                                      &#x27;absolute_error&#x27;],\n",
              "                                        &#x27;max_depth&#x27;: [1, 2, 3, 4, 5, 6],\n",
              "                                        &#x27;max_leaf_nodes&#x27;: [8, 10, 12, 14, 16,\n",
              "                                                           18],\n",
              "                                        &#x27;min_samples_leaf&#x27;: [1, 2, 3, 4, 5],\n",
              "                                        &#x27;min_samples_split&#x27;: [4, 6, 8, 10, 12]})</pre><b>In a Jupyter environment, please rerun this cell to show the HTML representation or trust the notebook. <br />On GitHub, the HTML representation is unable to render, please try loading this page with nbviewer.org.</b></div><div class=\"sk-container\" hidden><div class=\"sk-item sk-dashed-wrapped\"><div class=\"sk-label-container\"><div class=\"sk-label sk-toggleable\"><input class=\"sk-toggleable__control sk-hidden--visually\" id=\"sk-estimator-id-1\" type=\"checkbox\" ><label for=\"sk-estimator-id-1\" class=\"sk-toggleable__label sk-toggleable__label-arrow\">RandomizedSearchCV</label><div class=\"sk-toggleable__content\"><pre>RandomizedSearchCV(estimator=DecisionTreeRegressor(), n_jobs=-1,\n",
              "                   param_distributions={&#x27;criterion&#x27;: [&#x27;squared_error&#x27;,\n",
              "                                                      &#x27;friedman_mse&#x27;,\n",
              "                                                      &#x27;absolute_error&#x27;],\n",
              "                                        &#x27;max_depth&#x27;: [1, 2, 3, 4, 5, 6],\n",
              "                                        &#x27;max_leaf_nodes&#x27;: [8, 10, 12, 14, 16,\n",
              "                                                           18],\n",
              "                                        &#x27;min_samples_leaf&#x27;: [1, 2, 3, 4, 5],\n",
              "                                        &#x27;min_samples_split&#x27;: [4, 6, 8, 10, 12]})</pre></div></div></div><div class=\"sk-parallel\"><div class=\"sk-parallel-item\"><div class=\"sk-item\"><div class=\"sk-label-container\"><div class=\"sk-label sk-toggleable\"><input class=\"sk-toggleable__control sk-hidden--visually\" id=\"sk-estimator-id-2\" type=\"checkbox\" ><label for=\"sk-estimator-id-2\" class=\"sk-toggleable__label sk-toggleable__label-arrow\">estimator: DecisionTreeRegressor</label><div class=\"sk-toggleable__content\"><pre>DecisionTreeRegressor()</pre></div></div></div><div class=\"sk-serial\"><div class=\"sk-item\"><div class=\"sk-estimator sk-toggleable\"><input class=\"sk-toggleable__control sk-hidden--visually\" id=\"sk-estimator-id-3\" type=\"checkbox\" ><label for=\"sk-estimator-id-3\" class=\"sk-toggleable__label sk-toggleable__label-arrow\">DecisionTreeRegressor</label><div class=\"sk-toggleable__content\"><pre>DecisionTreeRegressor()</pre></div></div></div></div></div></div></div></div></div></div>"
            ],
            "text/plain": [
              "RandomizedSearchCV(estimator=DecisionTreeRegressor(), n_jobs=-1,\n",
              "                   param_distributions={'criterion': ['squared_error',\n",
              "                                                      'friedman_mse',\n",
              "                                                      'absolute_error'],\n",
              "                                        'max_depth': [1, 2, 3, 4, 5, 6],\n",
              "                                        'max_leaf_nodes': [8, 10, 12, 14, 16,\n",
              "                                                           18],\n",
              "                                        'min_samples_leaf': [1, 2, 3, 4, 5],\n",
              "                                        'min_samples_split': [4, 6, 8, 10, 12]})"
            ]
          },
          "execution_count": 12,
          "metadata": {},
          "output_type": "execute_result"
        }
      ],
      "source": [
        "grid = RandomizedSearchCV(DecisionTreeRegressor(), param_distributions = params, n_jobs = -1)\n",
        "\n",
        "grid.fit(x_train,y_train)"
      ]
    },
    {
      "cell_type": "code",
      "execution_count": 13,
      "metadata": {
        "colab": {
          "base_uri": "https://localhost:8080/"
        },
        "id": "sUMcLXRfj_-E",
        "outputId": "4a439550-9a01-4f3d-eb87-44e9a07dd5f7"
      },
      "outputs": [
        {
          "data": {
            "text/plain": [
              "{'min_samples_split': 12,\n",
              " 'min_samples_leaf': 5,\n",
              " 'max_leaf_nodes': 8,\n",
              " 'max_depth': 6,\n",
              " 'criterion': 'friedman_mse'}"
            ]
          },
          "execution_count": 13,
          "metadata": {},
          "output_type": "execute_result"
        }
      ],
      "source": [
        "grid.best_params_"
      ]
    },
    {
      "cell_type": "code",
      "execution_count": 14,
      "metadata": {
        "colab": {
          "base_uri": "https://localhost:8080/"
        },
        "id": "8c9Ivawkj_-E",
        "outputId": "4cda2868-da42-42ce-edbe-eaff31098ddc"
      },
      "outputs": [
        {
          "name": "stdout",
          "output_type": "stream",
          "text": [
            "Creating Model With DecisionTreeRegressor(criterion='friedman_mse', max_depth=6, max_leaf_nodes=8,\n",
            "                      min_samples_leaf=5, min_samples_split=12)\n",
            "Training Accuracy of are Model is : 0.57%\n",
            "Testing Accuracy of are Model is : 0.56%\n",
            "Mean Absolute Error of are Model is : 2524.7939\n",
            "\n",
            "\n"
          ]
        }
      ],
      "source": [
        "predict(DecisionTreeRegressor(criterion = 'friedman_mse', max_depth = 6, max_leaf_nodes = 8, min_samples_leaf = 5, min_samples_split = 12))"
      ]
    },
    {
      "cell_type": "markdown",
      "metadata": {
        "id": "wbZfp3jcj_-F"
      },
      "source": [
        "#### Tuning Gradient Boosting Regressor"
      ]
    },
    {
      "cell_type": "code",
      "execution_count": 11,
      "metadata": {
        "colab": {
          "base_uri": "https://localhost:8080/"
        },
        "id": "hMpmBZA0j_-F",
        "outputId": "bf3dc18d-b340-4201-b6b0-1537890bc613"
      },
      "outputs": [],
      "source": [
        "params = {\n",
        "    'loss' : ['squared_error', 'absolute_error', 'huber', 'quantile'],\n",
        "    'criterion' : ['friedman_mse', 'squared_error'],\n",
        "    'learning_rate' : [0.1,0.2,0.3,0.4,0.5],\n",
        "    'max_features' : ['auto', 'sqrt', 'log2'],\n",
        "    'n_estimators' : [1,2,3,4,5]\n",
        "    }"
      ]
    },
    {
      "cell_type": "code",
      "execution_count": 12,
      "metadata": {
        "id": "_CK5VXPSj_-F"
      },
      "outputs": [
        {
          "data": {
            "text/html": [
              "<style>#sk-container-id-1 {color: black;}#sk-container-id-1 pre{padding: 0;}#sk-container-id-1 div.sk-toggleable {background-color: white;}#sk-container-id-1 label.sk-toggleable__label {cursor: pointer;display: block;width: 100%;margin-bottom: 0;padding: 0.3em;box-sizing: border-box;text-align: center;}#sk-container-id-1 label.sk-toggleable__label-arrow:before {content: \"▸\";float: left;margin-right: 0.25em;color: #696969;}#sk-container-id-1 label.sk-toggleable__label-arrow:hover:before {color: black;}#sk-container-id-1 div.sk-estimator:hover label.sk-toggleable__label-arrow:before {color: black;}#sk-container-id-1 div.sk-toggleable__content {max-height: 0;max-width: 0;overflow: hidden;text-align: left;background-color: #f0f8ff;}#sk-container-id-1 div.sk-toggleable__content pre {margin: 0.2em;color: black;border-radius: 0.25em;background-color: #f0f8ff;}#sk-container-id-1 input.sk-toggleable__control:checked~div.sk-toggleable__content {max-height: 200px;max-width: 100%;overflow: auto;}#sk-container-id-1 input.sk-toggleable__control:checked~label.sk-toggleable__label-arrow:before {content: \"▾\";}#sk-container-id-1 div.sk-estimator input.sk-toggleable__control:checked~label.sk-toggleable__label {background-color: #d4ebff;}#sk-container-id-1 div.sk-label input.sk-toggleable__control:checked~label.sk-toggleable__label {background-color: #d4ebff;}#sk-container-id-1 input.sk-hidden--visually {border: 0;clip: rect(1px 1px 1px 1px);clip: rect(1px, 1px, 1px, 1px);height: 1px;margin: -1px;overflow: hidden;padding: 0;position: absolute;width: 1px;}#sk-container-id-1 div.sk-estimator {font-family: monospace;background-color: #f0f8ff;border: 1px dotted black;border-radius: 0.25em;box-sizing: border-box;margin-bottom: 0.5em;}#sk-container-id-1 div.sk-estimator:hover {background-color: #d4ebff;}#sk-container-id-1 div.sk-parallel-item::after {content: \"\";width: 100%;border-bottom: 1px solid gray;flex-grow: 1;}#sk-container-id-1 div.sk-label:hover label.sk-toggleable__label {background-color: #d4ebff;}#sk-container-id-1 div.sk-serial::before {content: \"\";position: absolute;border-left: 1px solid gray;box-sizing: border-box;top: 0;bottom: 0;left: 50%;z-index: 0;}#sk-container-id-1 div.sk-serial {display: flex;flex-direction: column;align-items: center;background-color: white;padding-right: 0.2em;padding-left: 0.2em;position: relative;}#sk-container-id-1 div.sk-item {position: relative;z-index: 1;}#sk-container-id-1 div.sk-parallel {display: flex;align-items: stretch;justify-content: center;background-color: white;position: relative;}#sk-container-id-1 div.sk-item::before, #sk-container-id-1 div.sk-parallel-item::before {content: \"\";position: absolute;border-left: 1px solid gray;box-sizing: border-box;top: 0;bottom: 0;left: 50%;z-index: -1;}#sk-container-id-1 div.sk-parallel-item {display: flex;flex-direction: column;z-index: 1;position: relative;background-color: white;}#sk-container-id-1 div.sk-parallel-item:first-child::after {align-self: flex-end;width: 50%;}#sk-container-id-1 div.sk-parallel-item:last-child::after {align-self: flex-start;width: 50%;}#sk-container-id-1 div.sk-parallel-item:only-child::after {width: 0;}#sk-container-id-1 div.sk-dashed-wrapped {border: 1px dashed gray;margin: 0 0.4em 0.5em 0.4em;box-sizing: border-box;padding-bottom: 0.4em;background-color: white;}#sk-container-id-1 div.sk-label label {font-family: monospace;font-weight: bold;display: inline-block;line-height: 1.2em;}#sk-container-id-1 div.sk-label-container {text-align: center;}#sk-container-id-1 div.sk-container {/* jupyter's `normalize.less` sets `[hidden] { display: none; }` but bootstrap.min.css set `[hidden] { display: none !important; }` so we also need the `!important` here to be able to override the default hidden behavior on the sphinx rendered scikit-learn.org. See: https://github.com/scikit-learn/scikit-learn/issues/21755 */display: inline-block !important;position: relative;}#sk-container-id-1 div.sk-text-repr-fallback {display: none;}</style><div id=\"sk-container-id-1\" class=\"sk-top-container\"><div class=\"sk-text-repr-fallback\"><pre>GridSearchCV(estimator=GradientBoostingRegressor(), n_jobs=-1,\n",
              "             param_grid={&#x27;criterion&#x27;: [&#x27;friedman_mse&#x27;, &#x27;squared_error&#x27;],\n",
              "                         &#x27;learning_rate&#x27;: [0.1, 0.2, 0.3, 0.4, 0.5],\n",
              "                         &#x27;loss&#x27;: [&#x27;squared_error&#x27;, &#x27;absolute_error&#x27;, &#x27;huber&#x27;,\n",
              "                                  &#x27;quantile&#x27;],\n",
              "                         &#x27;max_features&#x27;: [&#x27;auto&#x27;, &#x27;sqrt&#x27;, &#x27;log2&#x27;],\n",
              "                         &#x27;n_estimators&#x27;: [1, 2, 3, 4, 5]})</pre><b>In a Jupyter environment, please rerun this cell to show the HTML representation or trust the notebook. <br />On GitHub, the HTML representation is unable to render, please try loading this page with nbviewer.org.</b></div><div class=\"sk-container\" hidden><div class=\"sk-item sk-dashed-wrapped\"><div class=\"sk-label-container\"><div class=\"sk-label sk-toggleable\"><input class=\"sk-toggleable__control sk-hidden--visually\" id=\"sk-estimator-id-1\" type=\"checkbox\" ><label for=\"sk-estimator-id-1\" class=\"sk-toggleable__label sk-toggleable__label-arrow\">GridSearchCV</label><div class=\"sk-toggleable__content\"><pre>GridSearchCV(estimator=GradientBoostingRegressor(), n_jobs=-1,\n",
              "             param_grid={&#x27;criterion&#x27;: [&#x27;friedman_mse&#x27;, &#x27;squared_error&#x27;],\n",
              "                         &#x27;learning_rate&#x27;: [0.1, 0.2, 0.3, 0.4, 0.5],\n",
              "                         &#x27;loss&#x27;: [&#x27;squared_error&#x27;, &#x27;absolute_error&#x27;, &#x27;huber&#x27;,\n",
              "                                  &#x27;quantile&#x27;],\n",
              "                         &#x27;max_features&#x27;: [&#x27;auto&#x27;, &#x27;sqrt&#x27;, &#x27;log2&#x27;],\n",
              "                         &#x27;n_estimators&#x27;: [1, 2, 3, 4, 5]})</pre></div></div></div><div class=\"sk-parallel\"><div class=\"sk-parallel-item\"><div class=\"sk-item\"><div class=\"sk-label-container\"><div class=\"sk-label sk-toggleable\"><input class=\"sk-toggleable__control sk-hidden--visually\" id=\"sk-estimator-id-2\" type=\"checkbox\" ><label for=\"sk-estimator-id-2\" class=\"sk-toggleable__label sk-toggleable__label-arrow\">estimator: GradientBoostingRegressor</label><div class=\"sk-toggleable__content\"><pre>GradientBoostingRegressor()</pre></div></div></div><div class=\"sk-serial\"><div class=\"sk-item\"><div class=\"sk-estimator sk-toggleable\"><input class=\"sk-toggleable__control sk-hidden--visually\" id=\"sk-estimator-id-3\" type=\"checkbox\" ><label for=\"sk-estimator-id-3\" class=\"sk-toggleable__label sk-toggleable__label-arrow\">GradientBoostingRegressor</label><div class=\"sk-toggleable__content\"><pre>GradientBoostingRegressor()</pre></div></div></div></div></div></div></div></div></div></div>"
            ],
            "text/plain": [
              "GridSearchCV(estimator=GradientBoostingRegressor(), n_jobs=-1,\n",
              "             param_grid={'criterion': ['friedman_mse', 'squared_error'],\n",
              "                         'learning_rate': [0.1, 0.2, 0.3, 0.4, 0.5],\n",
              "                         'loss': ['squared_error', 'absolute_error', 'huber',\n",
              "                                  'quantile'],\n",
              "                         'max_features': ['auto', 'sqrt', 'log2'],\n",
              "                         'n_estimators': [1, 2, 3, 4, 5]})"
            ]
          },
          "execution_count": 12,
          "metadata": {},
          "output_type": "execute_result"
        }
      ],
      "source": [
        "gb = GridSearchCV(GradientBoostingRegressor(),param_grid=params, n_jobs=-1)\n",
        "gb.fit(x_train,y_train)"
      ]
    },
    {
      "cell_type": "code",
      "execution_count": 15,
      "metadata": {
        "colab": {
          "base_uri": "https://localhost:8080/",
          "height": 118
        },
        "id": "tVXtL5z8j_-G",
        "outputId": "3a6282ce-5f4f-4814-f8bb-b55d665be26c"
      },
      "outputs": [
        {
          "data": {
            "text/plain": [
              "{'criterion': 'squared_error',\n",
              " 'learning_rate': 0.5,\n",
              " 'loss': 'huber',\n",
              " 'max_features': 'sqrt',\n",
              " 'n_estimators': 5}"
            ]
          },
          "execution_count": 15,
          "metadata": {},
          "output_type": "execute_result"
        }
      ],
      "source": [
        "gb.best_params_"
      ]
    },
    {
      "cell_type": "code",
      "execution_count": 14,
      "metadata": {
        "colab": {
          "base_uri": "https://localhost:8080/"
        },
        "id": "dUhMKoPYj_-G",
        "outputId": "ce87b4fe-b713-4c53-e7ab-0912e4780a30"
      },
      "outputs": [
        {
          "name": "stdout",
          "output_type": "stream",
          "text": [
            "Creating Model With GradientBoostingRegressor(criterion='squared_error', learning_rate=0.5,\n",
            "                          loss='huber', max_features='sqrt', n_estimators=5)\n",
            "Training Accuracy of are Model is : 0.32%\n",
            "Testing Accuracy of are Model is : 0.33%\n",
            "Mean Absolute Error of are Model is : 2950.9838\n",
            "\n",
            "\n"
          ]
        }
      ],
      "source": [
        "predict(GradientBoostingRegressor(criterion = 'squared_error', learning_rate = 0.5, loss = 'huber', max_features = 'sqrt', n_estimators = 5))"
      ]
    },
    {
      "cell_type": "markdown",
      "metadata": {
        "id": "X75GZUDwj_-H"
      },
      "source": [
        "#### Tuning Random Forest Regressor"
      ]
    },
    {
      "cell_type": "code",
      "execution_count": 16,
      "metadata": {},
      "outputs": [],
      "source": [
        "params = {  'bootstrap': [True, False],\n",
        "            'max_depth': [10, 20, 30, 40, 50],\n",
        "            'max_features': ['auto', 'sqrt'],\n",
        "            'min_samples_leaf': [1, 2, 4],\n",
        "            'min_samples_split': [2, 5, 10],\n",
        "            'n_estimators': [200, 400, 600, 800, 1000]\n",
        "    }"
      ]
    },
    {
      "cell_type": "code",
      "execution_count": 17,
      "metadata": {
        "id": "uv_EJuMdj_-I"
      },
      "outputs": [
        {
          "data": {
            "text/html": [
              "<style>#sk-container-id-2 {color: black;}#sk-container-id-2 pre{padding: 0;}#sk-container-id-2 div.sk-toggleable {background-color: white;}#sk-container-id-2 label.sk-toggleable__label {cursor: pointer;display: block;width: 100%;margin-bottom: 0;padding: 0.3em;box-sizing: border-box;text-align: center;}#sk-container-id-2 label.sk-toggleable__label-arrow:before {content: \"▸\";float: left;margin-right: 0.25em;color: #696969;}#sk-container-id-2 label.sk-toggleable__label-arrow:hover:before {color: black;}#sk-container-id-2 div.sk-estimator:hover label.sk-toggleable__label-arrow:before {color: black;}#sk-container-id-2 div.sk-toggleable__content {max-height: 0;max-width: 0;overflow: hidden;text-align: left;background-color: #f0f8ff;}#sk-container-id-2 div.sk-toggleable__content pre {margin: 0.2em;color: black;border-radius: 0.25em;background-color: #f0f8ff;}#sk-container-id-2 input.sk-toggleable__control:checked~div.sk-toggleable__content {max-height: 200px;max-width: 100%;overflow: auto;}#sk-container-id-2 input.sk-toggleable__control:checked~label.sk-toggleable__label-arrow:before {content: \"▾\";}#sk-container-id-2 div.sk-estimator input.sk-toggleable__control:checked~label.sk-toggleable__label {background-color: #d4ebff;}#sk-container-id-2 div.sk-label input.sk-toggleable__control:checked~label.sk-toggleable__label {background-color: #d4ebff;}#sk-container-id-2 input.sk-hidden--visually {border: 0;clip: rect(1px 1px 1px 1px);clip: rect(1px, 1px, 1px, 1px);height: 1px;margin: -1px;overflow: hidden;padding: 0;position: absolute;width: 1px;}#sk-container-id-2 div.sk-estimator {font-family: monospace;background-color: #f0f8ff;border: 1px dotted black;border-radius: 0.25em;box-sizing: border-box;margin-bottom: 0.5em;}#sk-container-id-2 div.sk-estimator:hover {background-color: #d4ebff;}#sk-container-id-2 div.sk-parallel-item::after {content: \"\";width: 100%;border-bottom: 1px solid gray;flex-grow: 1;}#sk-container-id-2 div.sk-label:hover label.sk-toggleable__label {background-color: #d4ebff;}#sk-container-id-2 div.sk-serial::before {content: \"\";position: absolute;border-left: 1px solid gray;box-sizing: border-box;top: 0;bottom: 0;left: 50%;z-index: 0;}#sk-container-id-2 div.sk-serial {display: flex;flex-direction: column;align-items: center;background-color: white;padding-right: 0.2em;padding-left: 0.2em;position: relative;}#sk-container-id-2 div.sk-item {position: relative;z-index: 1;}#sk-container-id-2 div.sk-parallel {display: flex;align-items: stretch;justify-content: center;background-color: white;position: relative;}#sk-container-id-2 div.sk-item::before, #sk-container-id-2 div.sk-parallel-item::before {content: \"\";position: absolute;border-left: 1px solid gray;box-sizing: border-box;top: 0;bottom: 0;left: 50%;z-index: -1;}#sk-container-id-2 div.sk-parallel-item {display: flex;flex-direction: column;z-index: 1;position: relative;background-color: white;}#sk-container-id-2 div.sk-parallel-item:first-child::after {align-self: flex-end;width: 50%;}#sk-container-id-2 div.sk-parallel-item:last-child::after {align-self: flex-start;width: 50%;}#sk-container-id-2 div.sk-parallel-item:only-child::after {width: 0;}#sk-container-id-2 div.sk-dashed-wrapped {border: 1px dashed gray;margin: 0 0.4em 0.5em 0.4em;box-sizing: border-box;padding-bottom: 0.4em;background-color: white;}#sk-container-id-2 div.sk-label label {font-family: monospace;font-weight: bold;display: inline-block;line-height: 1.2em;}#sk-container-id-2 div.sk-label-container {text-align: center;}#sk-container-id-2 div.sk-container {/* jupyter's `normalize.less` sets `[hidden] { display: none; }` but bootstrap.min.css set `[hidden] { display: none !important; }` so we also need the `!important` here to be able to override the default hidden behavior on the sphinx rendered scikit-learn.org. See: https://github.com/scikit-learn/scikit-learn/issues/21755 */display: inline-block !important;position: relative;}#sk-container-id-2 div.sk-text-repr-fallback {display: none;}</style><div id=\"sk-container-id-2\" class=\"sk-top-container\"><div class=\"sk-text-repr-fallback\"><pre>RandomizedSearchCV(estimator=RandomForestRegressor(), n_jobs=-1,\n",
              "                   param_distributions={&#x27;bootstrap&#x27;: [True, False],\n",
              "                                        &#x27;max_depth&#x27;: [10, 20, 30, 40, 50],\n",
              "                                        &#x27;max_features&#x27;: [&#x27;auto&#x27;, &#x27;sqrt&#x27;],\n",
              "                                        &#x27;min_samples_leaf&#x27;: [1, 2, 4],\n",
              "                                        &#x27;min_samples_split&#x27;: [2, 5, 10],\n",
              "                                        &#x27;n_estimators&#x27;: [200, 400, 600, 800,\n",
              "                                                         1000]})</pre><b>In a Jupyter environment, please rerun this cell to show the HTML representation or trust the notebook. <br />On GitHub, the HTML representation is unable to render, please try loading this page with nbviewer.org.</b></div><div class=\"sk-container\" hidden><div class=\"sk-item sk-dashed-wrapped\"><div class=\"sk-label-container\"><div class=\"sk-label sk-toggleable\"><input class=\"sk-toggleable__control sk-hidden--visually\" id=\"sk-estimator-id-4\" type=\"checkbox\" ><label for=\"sk-estimator-id-4\" class=\"sk-toggleable__label sk-toggleable__label-arrow\">RandomizedSearchCV</label><div class=\"sk-toggleable__content\"><pre>RandomizedSearchCV(estimator=RandomForestRegressor(), n_jobs=-1,\n",
              "                   param_distributions={&#x27;bootstrap&#x27;: [True, False],\n",
              "                                        &#x27;max_depth&#x27;: [10, 20, 30, 40, 50],\n",
              "                                        &#x27;max_features&#x27;: [&#x27;auto&#x27;, &#x27;sqrt&#x27;],\n",
              "                                        &#x27;min_samples_leaf&#x27;: [1, 2, 4],\n",
              "                                        &#x27;min_samples_split&#x27;: [2, 5, 10],\n",
              "                                        &#x27;n_estimators&#x27;: [200, 400, 600, 800,\n",
              "                                                         1000]})</pre></div></div></div><div class=\"sk-parallel\"><div class=\"sk-parallel-item\"><div class=\"sk-item\"><div class=\"sk-label-container\"><div class=\"sk-label sk-toggleable\"><input class=\"sk-toggleable__control sk-hidden--visually\" id=\"sk-estimator-id-5\" type=\"checkbox\" ><label for=\"sk-estimator-id-5\" class=\"sk-toggleable__label sk-toggleable__label-arrow\">estimator: RandomForestRegressor</label><div class=\"sk-toggleable__content\"><pre>RandomForestRegressor()</pre></div></div></div><div class=\"sk-serial\"><div class=\"sk-item\"><div class=\"sk-estimator sk-toggleable\"><input class=\"sk-toggleable__control sk-hidden--visually\" id=\"sk-estimator-id-6\" type=\"checkbox\" ><label for=\"sk-estimator-id-6\" class=\"sk-toggleable__label sk-toggleable__label-arrow\">RandomForestRegressor</label><div class=\"sk-toggleable__content\"><pre>RandomForestRegressor()</pre></div></div></div></div></div></div></div></div></div></div>"
            ],
            "text/plain": [
              "RandomizedSearchCV(estimator=RandomForestRegressor(), n_jobs=-1,\n",
              "                   param_distributions={'bootstrap': [True, False],\n",
              "                                        'max_depth': [10, 20, 30, 40, 50],\n",
              "                                        'max_features': ['auto', 'sqrt'],\n",
              "                                        'min_samples_leaf': [1, 2, 4],\n",
              "                                        'min_samples_split': [2, 5, 10],\n",
              "                                        'n_estimators': [200, 400, 600, 800,\n",
              "                                                         1000]})"
            ]
          },
          "execution_count": 17,
          "metadata": {},
          "output_type": "execute_result"
        }
      ],
      "source": [
        "rf = RandomizedSearchCV(RandomForestRegressor(), param_distributions = params, n_jobs = -1)\n",
        "\n",
        "rf.fit(x_train,y_train)"
      ]
    },
    {
      "cell_type": "code",
      "execution_count": 18,
      "metadata": {
        "id": "ZEClX3G1j_-I",
        "outputId": "b2ea1d32-5f16-4875-e2a2-e2da57af2cb1"
      },
      "outputs": [
        {
          "data": {
            "text/plain": [
              "{'n_estimators': 400,\n",
              " 'min_samples_split': 10,\n",
              " 'min_samples_leaf': 4,\n",
              " 'max_features': 'sqrt',\n",
              " 'max_depth': 40,\n",
              " 'bootstrap': True}"
            ]
          },
          "execution_count": 18,
          "metadata": {},
          "output_type": "execute_result"
        }
      ],
      "source": [
        "rf.best_params_"
      ]
    },
    {
      "cell_type": "code",
      "execution_count": 19,
      "metadata": {
        "id": "qrLIQ1WFj_-N",
        "outputId": "12ebceec-c5c1-404f-d81e-e048cebb374e"
      },
      "outputs": [
        {
          "name": "stdout",
          "output_type": "stream",
          "text": [
            "Creating Model With RandomForestRegressor(max_depth=40, max_features='sqrt', min_samples_leaf=4,\n",
            "                      min_samples_split=10, n_estimators=400)\n",
            "Training Accuracy of are Model is : 0.69%\n",
            "Testing Accuracy of are Model is : 0.63%\n",
            "Mean Absolute Error of are Model is : 2265.323\n",
            "\n",
            "\n"
          ]
        }
      ],
      "source": [
        "predict(RandomForestRegressor(n_estimators = 400, min_samples_split = 10, min_samples_leaf = 4, max_features = 'sqrt', max_depth = 40, bootstrap = True))"
      ]
    },
    {
      "cell_type": "markdown",
      "metadata": {
        "id": "8RZHoWgJj_-N"
      },
      "source": [
        "#### Tuning Logistic Regression With AdaBoost Regressor"
      ]
    },
    {
      "cell_type": "code",
      "execution_count": 20,
      "metadata": {
        "id": "7NU-BR4Qj_-N",
        "outputId": "7809fed0-b47a-4962-a3d7-1f7838c63095"
      },
      "outputs": [
        {
          "name": "stdout",
          "output_type": "stream",
          "text": [
            "Creating Model With AdaBoostRegressor(estimator=LinearRegression())\n",
            "Training Accuracy of are Model is : 0.08%\n",
            "Testing Accuracy of are Model is : 0.08%\n",
            "Mean Absolute Error of are Model is : 3853.7339\n",
            "\n",
            "\n"
          ]
        }
      ],
      "source": [
        "predict(AdaBoostRegressor(LinearRegression()))"
      ]
    },
    {
      "cell_type": "code",
      "execution_count": 21,
      "metadata": {},
      "outputs": [
        {
          "name": "stdout",
          "output_type": "stream",
          "text": [
            "Creating Model With BaggingRegressor(estimator=LinearRegression())\n",
            "Training Accuracy of are Model is : 0.11%\n",
            "Testing Accuracy of are Model is : 0.11%\n",
            "Mean Absolute Error of are Model is : 3584.0262\n",
            "\n",
            "\n"
          ]
        }
      ],
      "source": [
        "predict(BaggingRegressor(LinearRegression()))"
      ]
    },
    {
      "cell_type": "markdown",
      "metadata": {
        "id": "byagmi38j_-N"
      },
      "source": [
        "#### Tuning KNeighborsRegressor"
      ]
    },
    {
      "cell_type": "code",
      "execution_count": 22,
      "metadata": {
        "id": "vXFKdDtkj_-N",
        "outputId": "5064cc91-edce-48e3-eb89-d2f13f997715"
      },
      "outputs": [
        {
          "data": {
            "image/png": "[encoded data removed]",
            "text/plain": [
              "<Figure size 3750x2000 with 1 Axes>"
            ]
          },
          "metadata": {},
          "output_type": "display_data"
        }
      ],
      "source": [
        "trainac = []\n",
        "testac = []\n",
        "\n",
        "for i in range(10,15):\n",
        "    knn = KNeighborsRegressor(n_neighbors=i)\n",
        "    knn.fit(x_train,y_train)\n",
        "    ypred = knn.predict(x_test)\n",
        "\n",
        "    trainac.append(knn.score(x_train,y_train))\n",
        "    testac.append(knn.score(x_test,y_test))\n",
        "\n",
        "plt.title('')\n",
        "plt.plot(range(10,15),trainac)\n",
        "plt.plot(range(10,15), testac)\n",
        "plt.xlabel('Number of K')\n",
        "plt.ylabel('Accuracy')\n",
        "plt.grid()"
      ]
    },
    {
      "cell_type": "code",
      "execution_count": 23,
      "metadata": {
        "id": "7KU2l5Dej_-O",
        "outputId": "9a8b7d6f-4114-499e-f09c-fcc8bdb9cc8e"
      },
      "outputs": [
        {
          "name": "stdout",
          "output_type": "stream",
          "text": [
            "Creating Model With KNeighborsRegressor(n_neighbors=13)\n",
            "Training Accuracy of are Model is : 0.56%\n",
            "Testing Accuracy of are Model is : 0.49%\n",
            "Mean Absolute Error of are Model is : 2612.2737\n",
            "\n",
            "\n"
          ]
        }
      ],
      "source": [
        "predict(KNeighborsRegressor(n_neighbors = 13))"
      ]
    },
    {
      "cell_type": "markdown",
      "metadata": {
        "id": "woLjG0z2j_-O"
      },
      "source": [
        "#### Tuning XGBoost Regressor"
      ]
    },
    {
      "cell_type": "code",
      "execution_count": 29,
      "metadata": {
        "id": "F5B237f3j_-O"
      },
      "outputs": [],
      "source": [
        "params = {\n",
        "    'n_estimators': [100, 200, 300, 400, 500],\n",
        "    'learning_rate': [0.01, 0.1, 0.2, 0.3, 0.5],\n",
        "    'max_depth': np.arange(3, 11, 1),\n",
        "    'min_child_weight': np.arange(1, 6, 1),\n",
        "    'colsample_bytree': np.arange(0.7, 1.01, 0.05),\n",
        "    'gamma': [0, 0.1, 0.2, 0.3, 0.4]\n",
        "}"
      ]
    },
    {
      "cell_type": "code",
      "execution_count": 30,
      "metadata": {
        "id": "Rn1kpr6Nj_-O",
        "outputId": "b1c866f7-35bd-4c44-9ef9-de93d692093e"
      },
      "outputs": [
        {
          "data": {
            "text/html": [
              "<style>#sk-container-id-4 {color: black;}#sk-container-id-4 pre{padding: 0;}#sk-container-id-4 div.sk-toggleable {background-color: white;}#sk-container-id-4 label.sk-toggleable__label {cursor: pointer;display: block;width: 100%;margin-bottom: 0;padding: 0.3em;box-sizing: border-box;text-align: center;}#sk-container-id-4 label.sk-toggleable__label-arrow:before {content: \"▸\";float: left;margin-right: 0.25em;color: #696969;}#sk-container-id-4 label.sk-toggleable__label-arrow:hover:before {color: black;}#sk-container-id-4 div.sk-estimator:hover label.sk-toggleable__label-arrow:before {color: black;}#sk-container-id-4 div.sk-toggleable__content {max-height: 0;max-width: 0;overflow: hidden;text-align: left;background-color: #f0f8ff;}#sk-container-id-4 div.sk-toggleable__content pre {margin: 0.2em;color: black;border-radius: 0.25em;background-color: #f0f8ff;}#sk-container-id-4 input.sk-toggleable__control:checked~div.sk-toggleable__content {max-height: 200px;max-width: 100%;overflow: auto;}#sk-container-id-4 input.sk-toggleable__control:checked~label.sk-toggleable__label-arrow:before {content: \"▾\";}#sk-container-id-4 div.sk-estimator input.sk-toggleable__control:checked~label.sk-toggleable__label {background-color: #d4ebff;}#sk-container-id-4 div.sk-label input.sk-toggleable__control:checked~label.sk-toggleable__label {background-color: #d4ebff;}#sk-container-id-4 input.sk-hidden--visually {border: 0;clip: rect(1px 1px 1px 1px);clip: rect(1px, 1px, 1px, 1px);height: 1px;margin: -1px;overflow: hidden;padding: 0;position: absolute;width: 1px;}#sk-container-id-4 div.sk-estimator {font-family: monospace;background-color: #f0f8ff;border: 1px dotted black;border-radius: 0.25em;box-sizing: border-box;margin-bottom: 0.5em;}#sk-container-id-4 div.sk-estimator:hover {background-color: #d4ebff;}#sk-container-id-4 div.sk-parallel-item::after {content: \"\";width: 100%;border-bottom: 1px solid gray;flex-grow: 1;}#sk-container-id-4 div.sk-label:hover label.sk-toggleable__label {background-color: #d4ebff;}#sk-container-id-4 div.sk-serial::before {content: \"\";position: absolute;border-left: 1px solid gray;box-sizing: border-box;top: 0;bottom: 0;left: 50%;z-index: 0;}#sk-container-id-4 div.sk-serial {display: flex;flex-direction: column;align-items: center;background-color: white;padding-right: 0.2em;padding-left: 0.2em;position: relative;}#sk-container-id-4 div.sk-item {position: relative;z-index: 1;}#sk-container-id-4 div.sk-parallel {display: flex;align-items: stretch;justify-content: center;background-color: white;position: relative;}#sk-container-id-4 div.sk-item::before, #sk-container-id-4 div.sk-parallel-item::before {content: \"\";position: absolute;border-left: 1px solid gray;box-sizing: border-box;top: 0;bottom: 0;left: 50%;z-index: -1;}#sk-container-id-4 div.sk-parallel-item {display: flex;flex-direction: column;z-index: 1;position: relative;background-color: white;}#sk-container-id-4 div.sk-parallel-item:first-child::after {align-self: flex-end;width: 50%;}#sk-container-id-4 div.sk-parallel-item:last-child::after {align-self: flex-start;width: 50%;}#sk-container-id-4 div.sk-parallel-item:only-child::after {width: 0;}#sk-container-id-4 div.sk-dashed-wrapped {border: 1px dashed gray;margin: 0 0.4em 0.5em 0.4em;box-sizing: border-box;padding-bottom: 0.4em;background-color: white;}#sk-container-id-4 div.sk-label label {font-family: monospace;font-weight: bold;display: inline-block;line-height: 1.2em;}#sk-container-id-4 div.sk-label-container {text-align: center;}#sk-container-id-4 div.sk-container {/* jupyter's `normalize.less` sets `[hidden] { display: none; }` but bootstrap.min.css set `[hidden] { display: none !important; }` so we also need the `!important` here to be able to override the default hidden behavior on the sphinx rendered scikit-learn.org. See: https://github.com/scikit-learn/scikit-learn/issues/21755 */display: inline-block !important;position: relative;}#sk-container-id-4 div.sk-text-repr-fallback {display: none;}</style><div id=\"sk-container-id-4\" class=\"sk-top-container\"><div class=\"sk-text-repr-fallback\"><pre>RandomizedSearchCV(estimator=XGBRegressor(base_score=None, booster=None,\n",
              "                                          callbacks=None,\n",
              "                                          colsample_bylevel=None,\n",
              "                                          colsample_bynode=None,\n",
              "                                          colsample_bytree=None, device=None,\n",
              "                                          early_stopping_rounds=None,\n",
              "                                          enable_categorical=False,\n",
              "                                          eval_metric=None, feature_types=None,\n",
              "                                          gamma=None, grow_policy=None,\n",
              "                                          importance_type=None,\n",
              "                                          interaction_constraints=None,\n",
              "                                          learning_rate=None,...\n",
              "                                          multi_strategy=None,\n",
              "                                          n_estimators=None, n_jobs=None,\n",
              "                                          num_parallel_tree=None,\n",
              "                                          random_state=None, ...),\n",
              "                   n_jobs=-1,\n",
              "                   param_distributions={&#x27;colsample_bytree&#x27;: array([0.7 , 0.75, 0.8 , 0.85, 0.9 , 0.95, 1.  ]),\n",
              "                                        &#x27;gamma&#x27;: [0, 0.1, 0.2, 0.3, 0.4],\n",
              "                                        &#x27;learning_rate&#x27;: [0.01, 0.1, 0.2, 0.3,\n",
              "                                                          0.5],\n",
              "                                        &#x27;max_depth&#x27;: array([ 3,  4,  5,  6,  7,  8,  9, 10]),\n",
              "                                        &#x27;min_child_weight&#x27;: array([1, 2, 3, 4, 5]),\n",
              "                                        &#x27;n_estimators&#x27;: [100, 200, 300, 400,\n",
              "                                                         500]})</pre><b>In a Jupyter environment, please rerun this cell to show the HTML representation or trust the notebook. <br />On GitHub, the HTML representation is unable to render, please try loading this page with nbviewer.org.</b></div><div class=\"sk-container\" hidden><div class=\"sk-item sk-dashed-wrapped\"><div class=\"sk-label-container\"><div class=\"sk-label sk-toggleable\"><input class=\"sk-toggleable__control sk-hidden--visually\" id=\"sk-estimator-id-10\" type=\"checkbox\" ><label for=\"sk-estimator-id-10\" class=\"sk-toggleable__label sk-toggleable__label-arrow\">RandomizedSearchCV</label><div class=\"sk-toggleable__content\"><pre>RandomizedSearchCV(estimator=XGBRegressor(base_score=None, booster=None,\n",
              "                                          callbacks=None,\n",
              "                                          colsample_bylevel=None,\n",
              "                                          colsample_bynode=None,\n",
              "                                          colsample_bytree=None, device=None,\n",
              "                                          early_stopping_rounds=None,\n",
              "                                          enable_categorical=False,\n",
              "                                          eval_metric=None, feature_types=None,\n",
              "                                          gamma=None, grow_policy=None,\n",
              "                                          importance_type=None,\n",
              "                                          interaction_constraints=None,\n",
              "                                          learning_rate=None,...\n",
              "                                          multi_strategy=None,\n",
              "                                          n_estimators=None, n_jobs=None,\n",
              "                                          num_parallel_tree=None,\n",
              "                                          random_state=None, ...),\n",
              "                   n_jobs=-1,\n",
              "                   param_distributions={&#x27;colsample_bytree&#x27;: array([0.7 , 0.75, 0.8 , 0.85, 0.9 , 0.95, 1.  ]),\n",
              "                                        &#x27;gamma&#x27;: [0, 0.1, 0.2, 0.3, 0.4],\n",
              "                                        &#x27;learning_rate&#x27;: [0.01, 0.1, 0.2, 0.3,\n",
              "                                                          0.5],\n",
              "                                        &#x27;max_depth&#x27;: array([ 3,  4,  5,  6,  7,  8,  9, 10]),\n",
              "                                        &#x27;min_child_weight&#x27;: array([1, 2, 3, 4, 5]),\n",
              "                                        &#x27;n_estimators&#x27;: [100, 200, 300, 400,\n",
              "                                                         500]})</pre></div></div></div><div class=\"sk-parallel\"><div class=\"sk-parallel-item\"><div class=\"sk-item\"><div class=\"sk-label-container\"><div class=\"sk-label sk-toggleable\"><input class=\"sk-toggleable__control sk-hidden--visually\" id=\"sk-estimator-id-11\" type=\"checkbox\" ><label for=\"sk-estimator-id-11\" class=\"sk-toggleable__label sk-toggleable__label-arrow\">estimator: XGBRegressor</label><div class=\"sk-toggleable__content\"><pre>XGBRegressor(base_score=None, booster=None, callbacks=None,\n",
              "             colsample_bylevel=None, colsample_bynode=None,\n",
              "             colsample_bytree=None, device=None, early_stopping_rounds=None,\n",
              "             enable_categorical=False, eval_metric=None, feature_types=None,\n",
              "             gamma=None, grow_policy=None, importance_type=None,\n",
              "             interaction_constraints=None, learning_rate=None, max_bin=None,\n",
              "             max_cat_threshold=None, max_cat_to_onehot=None,\n",
              "             max_delta_step=None, max_depth=None, max_leaves=None,\n",
              "             min_child_weight=None, missing=nan, monotone_constraints=None,\n",
              "             multi_strategy=None, n_estimators=None, n_jobs=None,\n",
              "             num_parallel_tree=None, random_state=None, ...)</pre></div></div></div><div class=\"sk-serial\"><div class=\"sk-item\"><div class=\"sk-estimator sk-toggleable\"><input class=\"sk-toggleable__control sk-hidden--visually\" id=\"sk-estimator-id-12\" type=\"checkbox\" ><label for=\"sk-estimator-id-12\" class=\"sk-toggleable__label sk-toggleable__label-arrow\">XGBRegressor</label><div class=\"sk-toggleable__content\"><pre>XGBRegressor(base_score=None, booster=None, callbacks=None,\n",
              "             colsample_bylevel=None, colsample_bynode=None,\n",
              "             colsample_bytree=None, device=None, early_stopping_rounds=None,\n",
              "             enable_categorical=False, eval_metric=None, feature_types=None,\n",
              "             gamma=None, grow_policy=None, importance_type=None,\n",
              "             interaction_constraints=None, learning_rate=None, max_bin=None,\n",
              "             max_cat_threshold=None, max_cat_to_onehot=None,\n",
              "             max_delta_step=None, max_depth=None, max_leaves=None,\n",
              "             min_child_weight=None, missing=nan, monotone_constraints=None,\n",
              "             multi_strategy=None, n_estimators=None, n_jobs=None,\n",
              "             num_parallel_tree=None, random_state=None, ...)</pre></div></div></div></div></div></div></div></div></div></div>"
            ],
            "text/plain": [
              "RandomizedSearchCV(estimator=XGBRegressor(base_score=None, booster=None,\n",
              "                                          callbacks=None,\n",
              "                                          colsample_bylevel=None,\n",
              "                                          colsample_bynode=None,\n",
              "                                          colsample_bytree=None, device=None,\n",
              "                                          early_stopping_rounds=None,\n",
              "                                          enable_categorical=False,\n",
              "                                          eval_metric=None, feature_types=None,\n",
              "                                          gamma=None, grow_policy=None,\n",
              "                                          importance_type=None,\n",
              "                                          interaction_constraints=None,\n",
              "                                          learning_rate=None,...\n",
              "                                          multi_strategy=None,\n",
              "                                          n_estimators=None, n_jobs=None,\n",
              "                                          num_parallel_tree=None,\n",
              "                                          random_state=None, ...),\n",
              "                   n_jobs=-1,\n",
              "                   param_distributions={'colsample_bytree': array([0.7 , 0.75, 0.8 , 0.85, 0.9 , 0.95, 1.  ]),\n",
              "                                        'gamma': [0, 0.1, 0.2, 0.3, 0.4],\n",
              "                                        'learning_rate': [0.01, 0.1, 0.2, 0.3,\n",
              "                                                          0.5],\n",
              "                                        'max_depth': array([ 3,  4,  5,  6,  7,  8,  9, 10]),\n",
              "                                        'min_child_weight': array([1, 2, 3, 4, 5]),\n",
              "                                        'n_estimators': [100, 200, 300, 400,\n",
              "                                                         500]})"
            ]
          },
          "execution_count": 30,
          "metadata": {},
          "output_type": "execute_result"
        }
      ],
      "source": [
        "xg = RandomizedSearchCV(XGBRegressor(), param_distributions = params, n_jobs = -1)\n",
        "\n",
        "xg.fit(x_train,y_train)"
      ]
    },
    {
      "cell_type": "code",
      "execution_count": 31,
      "metadata": {
        "id": "7P4CL3Baj_-O",
        "outputId": "0ac96b38-3c09-454e-cc84-0ba9213f0026"
      },
      "outputs": [
        {
          "data": {
            "text/plain": [
              "{'n_estimators': 200,\n",
              " 'min_child_weight': 4,\n",
              " 'max_depth': 7,\n",
              " 'learning_rate': 0.1,\n",
              " 'gamma': 0,\n",
              " 'colsample_bytree': 0.8500000000000001}"
            ]
          },
          "execution_count": 31,
          "metadata": {},
          "output_type": "execute_result"
        }
      ],
      "source": [
        "xg.best_params_"
      ]
    },
    {
      "cell_type": "code",
      "execution_count": 32,
      "metadata": {
        "id": "UOSUxTzCj_-O",
        "outputId": "d113058e-ab46-4273-9b82-2839f8c05b03"
      },
      "outputs": [
        {
          "name": "stdout",
          "output_type": "stream",
          "text": [
            "Creating Model With XGBRegressor(base_score=None, booster=None, callbacks=None,\n",
            "             colsample_bylevel=None, colsample_bynode=None,\n",
            "             colsample_bytree=0.8500000000000001, device=None,\n",
            "             early_stopping_rounds=None, enable_categorical=False,\n",
            "             eval_metric=None, feature_types=None, gamma=0, grow_policy=None,\n",
            "             importance_type=None, interaction_constraints=None,\n",
            "             learning_rate=0.1, max_bin=None, max_cat_threshold=None,\n",
            "             max_cat_to_onehot=None, max_delta_step=None, max_depth=7,\n",
            "             max_leaves=None, min_child_weight=4, missing=nan,\n",
            "             monotone_constraints=None, multi_strategy=None, n_estimators=200,\n",
            "             n_jobs=None, num_parallel_tree=None, random_state=None, ...)\n",
            "Training Accuracy of are Model is : 0.68%\n",
            "Testing Accuracy of are Model is : 0.64%\n",
            "Mean Absolute Error of are Model is : 2215.3121\n",
            "\n",
            "\n"
          ]
        }
      ],
      "source": [
        "predict(XGBRegressor(n_estimators = 200, min_child_weight = 4, max_depth = 7 , learning_rate = 0.1 , gamma = 0 , colsample_bytree = 0.8500000000000001))"
      ]
    },
    {
      "cell_type": "markdown",
      "metadata": {
        "id": "nyhptT8Hj_-Q"
      },
      "source": [
        "### Creating Final Model With Hyperparameter Value"
      ]
    },
    {
      "cell_type": "code",
      "execution_count": 15,
      "metadata": {
        "id": "X-owlaO5j_-Q"
      },
      "outputs": [
        {
          "data": {
            "text/html": [
              "<style>#sk-container-id-2 {color: black;}#sk-container-id-2 pre{padding: 0;}#sk-container-id-2 div.sk-toggleable {background-color: white;}#sk-container-id-2 label.sk-toggleable__label {cursor: pointer;display: block;width: 100%;margin-bottom: 0;padding: 0.3em;box-sizing: border-box;text-align: center;}#sk-container-id-2 label.sk-toggleable__label-arrow:before {content: \"▸\";float: left;margin-right: 0.25em;color: #696969;}#sk-container-id-2 label.sk-toggleable__label-arrow:hover:before {color: black;}#sk-container-id-2 div.sk-estimator:hover label.sk-toggleable__label-arrow:before {color: black;}#sk-container-id-2 div.sk-toggleable__content {max-height: 0;max-width: 0;overflow: hidden;text-align: left;background-color: #f0f8ff;}#sk-container-id-2 div.sk-toggleable__content pre {margin: 0.2em;color: black;border-radius: 0.25em;background-color: #f0f8ff;}#sk-container-id-2 input.sk-toggleable__control:checked~div.sk-toggleable__content {max-height: 200px;max-width: 100%;overflow: auto;}#sk-container-id-2 input.sk-toggleable__control:checked~label.sk-toggleable__label-arrow:before {content: \"▾\";}#sk-container-id-2 div.sk-estimator input.sk-toggleable__control:checked~label.sk-toggleable__label {background-color: #d4ebff;}#sk-container-id-2 div.sk-label input.sk-toggleable__control:checked~label.sk-toggleable__label {background-color: #d4ebff;}#sk-container-id-2 input.sk-hidden--visually {border: 0;clip: rect(1px 1px 1px 1px);clip: rect(1px, 1px, 1px, 1px);height: 1px;margin: -1px;overflow: hidden;padding: 0;position: absolute;width: 1px;}#sk-container-id-2 div.sk-estimator {font-family: monospace;background-color: #f0f8ff;border: 1px dotted black;border-radius: 0.25em;box-sizing: border-box;margin-bottom: 0.5em;}#sk-container-id-2 div.sk-estimator:hover {background-color: #d4ebff;}#sk-container-id-2 div.sk-parallel-item::after {content: \"\";width: 100%;border-bottom: 1px solid gray;flex-grow: 1;}#sk-container-id-2 div.sk-label:hover label.sk-toggleable__label {background-color: #d4ebff;}#sk-container-id-2 div.sk-serial::before {content: \"\";position: absolute;border-left: 1px solid gray;box-sizing: border-box;top: 0;bottom: 0;left: 50%;z-index: 0;}#sk-container-id-2 div.sk-serial {display: flex;flex-direction: column;align-items: center;background-color: white;padding-right: 0.2em;padding-left: 0.2em;position: relative;}#sk-container-id-2 div.sk-item {position: relative;z-index: 1;}#sk-container-id-2 div.sk-parallel {display: flex;align-items: stretch;justify-content: center;background-color: white;position: relative;}#sk-container-id-2 div.sk-item::before, #sk-container-id-2 div.sk-parallel-item::before {content: \"\";position: absolute;border-left: 1px solid gray;box-sizing: border-box;top: 0;bottom: 0;left: 50%;z-index: -1;}#sk-container-id-2 div.sk-parallel-item {display: flex;flex-direction: column;z-index: 1;position: relative;background-color: white;}#sk-container-id-2 div.sk-parallel-item:first-child::after {align-self: flex-end;width: 50%;}#sk-container-id-2 div.sk-parallel-item:last-child::after {align-self: flex-start;width: 50%;}#sk-container-id-2 div.sk-parallel-item:only-child::after {width: 0;}#sk-container-id-2 div.sk-dashed-wrapped {border: 1px dashed gray;margin: 0 0.4em 0.5em 0.4em;box-sizing: border-box;padding-bottom: 0.4em;background-color: white;}#sk-container-id-2 div.sk-label label {font-family: monospace;font-weight: bold;display: inline-block;line-height: 1.2em;}#sk-container-id-2 div.sk-label-container {text-align: center;}#sk-container-id-2 div.sk-container {/* jupyter's `normalize.less` sets `[hidden] { display: none; }` but bootstrap.min.css set `[hidden] { display: none !important; }` so we also need the `!important` here to be able to override the default hidden behavior on the sphinx rendered scikit-learn.org. See: https://github.com/scikit-learn/scikit-learn/issues/21755 */display: inline-block !important;position: relative;}#sk-container-id-2 div.sk-text-repr-fallback {display: none;}</style><div id=\"sk-container-id-2\" class=\"sk-top-container\"><div class=\"sk-text-repr-fallback\"><pre>XGBRegressor(base_score=None, booster=None, callbacks=None,\n",
              "             colsample_bylevel=None, colsample_bynode=None,\n",
              "             colsample_bytree=0.8500000000000001, device=None,\n",
              "             early_stopping_rounds=None, enable_categorical=False,\n",
              "             eval_metric=None, feature_types=None, gamma=0, grow_policy=None,\n",
              "             importance_type=None, interaction_constraints=None,\n",
              "             learning_rate=0.1, max_bin=None, max_cat_threshold=None,\n",
              "             max_cat_to_onehot=None, max_delta_step=None, max_depth=7,\n",
              "             max_leaves=None, min_child_weight=4, missing=nan,\n",
              "             monotone_constraints=None, multi_strategy=None, n_estimators=200,\n",
              "             n_jobs=None, num_parallel_tree=None, random_state=None, ...)</pre><b>In a Jupyter environment, please rerun this cell to show the HTML representation or trust the notebook. <br />On GitHub, the HTML representation is unable to render, please try loading this page with nbviewer.org.</b></div><div class=\"sk-container\" hidden><div class=\"sk-item\"><div class=\"sk-estimator sk-toggleable\"><input class=\"sk-toggleable__control sk-hidden--visually\" id=\"sk-estimator-id-4\" type=\"checkbox\" checked><label for=\"sk-estimator-id-4\" class=\"sk-toggleable__label sk-toggleable__label-arrow\">XGBRegressor</label><div class=\"sk-toggleable__content\"><pre>XGBRegressor(base_score=None, booster=None, callbacks=None,\n",
              "             colsample_bylevel=None, colsample_bynode=None,\n",
              "             colsample_bytree=0.8500000000000001, device=None,\n",
              "             early_stopping_rounds=None, enable_categorical=False,\n",
              "             eval_metric=None, feature_types=None, gamma=0, grow_policy=None,\n",
              "             importance_type=None, interaction_constraints=None,\n",
              "             learning_rate=0.1, max_bin=None, max_cat_threshold=None,\n",
              "             max_cat_to_onehot=None, max_delta_step=None, max_depth=7,\n",
              "             max_leaves=None, min_child_weight=4, missing=nan,\n",
              "             monotone_constraints=None, multi_strategy=None, n_estimators=200,\n",
              "             n_jobs=None, num_parallel_tree=None, random_state=None, ...)</pre></div></div></div></div></div>"
            ],
            "text/plain": [
              "XGBRegressor(base_score=None, booster=None, callbacks=None,\n",
              "             colsample_bylevel=None, colsample_bynode=None,\n",
              "             colsample_bytree=0.8500000000000001, device=None,\n",
              "             early_stopping_rounds=None, enable_categorical=False,\n",
              "             eval_metric=None, feature_types=None, gamma=0, grow_policy=None,\n",
              "             importance_type=None, interaction_constraints=None,\n",
              "             learning_rate=0.1, max_bin=None, max_cat_threshold=None,\n",
              "             max_cat_to_onehot=None, max_delta_step=None, max_depth=7,\n",
              "             max_leaves=None, min_child_weight=4, missing=nan,\n",
              "             monotone_constraints=None, multi_strategy=None, n_estimators=200,\n",
              "             n_jobs=None, num_parallel_tree=None, random_state=None, ...)"
            ]
          },
          "execution_count": 15,
          "metadata": {},
          "output_type": "execute_result"
        }
      ],
      "source": [
        "final_model = XGBRegressor(n_estimators = 200, min_child_weight = 4, max_depth = 7 , learning_rate = 0.1 , \n",
        "                           gamma = 0 , colsample_bytree = 0.8500000000000001)\n",
        "\n",
        "final_model.fit(x_train,y_train)"
      ]
    },
    {
      "cell_type": "markdown",
      "metadata": {
        "id": "S3wbUWb6j_-Q"
      },
      "source": [
        "##### Comparing Training And Testing Accuracy"
      ]
    },
    {
      "cell_type": "code",
      "execution_count": 16,
      "metadata": {
        "id": "y0EmIspuj_-R",
        "outputId": "327a9296-6a37-40b2-eb76-af07f6a6312f"
      },
      "outputs": [
        {
          "name": "stdout",
          "output_type": "stream",
          "text": [
            "Training Accuracy of are Model is : 0.68 %\n",
            "Testing Accuracy of are Model is : 0.64 %\n"
          ]
        }
      ],
      "source": [
        "print('Training Accuracy of are Model is : ' + str(round(final_model.score(x_train,y_train),2))+' %')\n",
        "print('Testing Accuracy of are Model is : ' + str(round(final_model.score(x_test, y_test),2))+' %')"
      ]
    },
    {
      "cell_type": "markdown",
      "metadata": {
        "id": "1Oxe35Y6j_-R"
      },
      "source": [
        "## Creating Model"
      ]
    },
    {
      "cell_type": "code",
      "execution_count": null,
      "metadata": {
        "id": "Tr2dWRHzj_-R"
      },
      "outputs": [],
      "source": [
        "pickle.dump(final_model, open('model.pkl','wb'))"
      ]
    }
  ],
  "metadata": {
    "colab": {
      "provenance": []
    },
    "kernelspec": {
      "display_name": "base",
      "language": "python",
      "name": "python3"
    },
    "language_info": {
      "codemirror_mode": {
        "name": "ipython",
        "version": 3
      },
      "file_extension": ".py",
      "mimetype": "text/x-python",
      "name": "python",
      "nbconvert_exporter": "python",
      "pygments_lexer": "ipython3",
      "version": "3.11.5"
    },
    "orig_nbformat": 4
  },
  "nbformat": 4,
  "nbformat_minor": 0
}
